{
 "cells": [
  {
   "cell_type": "code",
   "execution_count": 38,
   "metadata": {},
   "outputs": [
    {
     "name": "stdout",
     "output_type": "stream",
     "text": [
      "Acc:  1.0\n",
      "Acc:  1.0\n"
     ]
    },
    {
     "name": "stderr",
     "output_type": "stream",
     "text": [
      "C:\\Users\\student\\Anaconda3\\lib\\site-packages\\sklearn\\model_selection\\_split.py:2179: FutureWarning: From version 0.21, test_size will always complement train_size unless both are specified.\n",
      "  FutureWarning)\n",
      "C:\\Users\\student\\Anaconda3\\lib\\site-packages\\sklearn\\svm\\base.py:196: FutureWarning: The default value of gamma will change from 'auto' to 'scale' in version 0.22 to account better for unscaled features. Set gamma explicitly to 'auto' or 'scale' to avoid this warning.\n",
      "  \"avoid this warning.\", FutureWarning)\n"
     ]
    }
   ],
   "source": [
    "import pandas as pd\n",
    "import numpy as np\n",
    "import tensorflow as tf\n",
    "\n",
    "from sklearn.svm import SVC\n",
    "from sklearn.neighbors import KNeighborsClassifier\n",
    "from sklearn.metrics import accuracy_score\n",
    "\n",
    "seed=0\n",
    "np.random.seed(seed)\n",
    "tf.set_random_seed(seed)\n",
    "\n",
    "#1. 데이터\n",
    "try:\n",
    "    dataset = np.loadtxt(\"./data/iris.csv\",delimiter=',')\n",
    "except:\n",
    "    dataset = pd.read_csv(\"./data/iris.csv\",delimiter=',',header=None, index_col=None,encoding='utf-8')\n",
    "    dataset = dataset.values    \n",
    "    \n",
    "X = dataset[:,0:4]\n",
    "Y = dataset[:,4]\n",
    "\n",
    "from sklearn.model_selection import train_test_split\n",
    "\n",
    "X_train, X_test, Y_train, Y_test = train_test_split(X, Y, train_size=0.8, shuffle=True)\n",
    "\n",
    "#############################################################\n",
    "\n",
    "#2. 모델 (KNeighborsClassifier)\n",
    "model=KNeighborsClassifier(n_neighbors=10)\n",
    "\n",
    "#3. 훈련\n",
    "model.fit(X_train,Y_train)\n",
    "\n",
    "#4. 평가\n",
    "y_predict = model.predict(X_test)\n",
    "\n",
    "#print(X_test,\"의 예측 결과:\",y_predict)\n",
    "print(\"Acc: \", accuracy_score( Y_test, y_predict))\n",
    "\n",
    "#############################################################\n",
    "\n",
    "#2. 모델 (Support Vector Classifier)\n",
    "clf = SVC()\n",
    "\n",
    "#3. 훈련\n",
    "clf.fit(X_train,Y_train)\n",
    "\n",
    "#4. 평가\n",
    "y_predict = clf.predict(X_test)\n",
    "\n",
    "#print(X_test,\"의 예측 결과:\",y_predict)\n",
    "print(\"Acc: \", accuracy_score( Y_test, y_predict))\n",
    "\n",
    "#############################################################\n",
    "\n"
   ]
  },
  {
   "cell_type": "code",
   "execution_count": null,
   "metadata": {},
   "outputs": [],
   "source": []
  },
  {
   "cell_type": "code",
   "execution_count": null,
   "metadata": {},
   "outputs": [],
   "source": []
  }
 ],
 "metadata": {
  "kernelspec": {
   "display_name": "Python 3",
   "language": "python",
   "name": "python3"
  },
  "language_info": {
   "codemirror_mode": {
    "name": "ipython",
    "version": 3
   },
   "file_extension": ".py",
   "mimetype": "text/x-python",
   "name": "python",
   "nbconvert_exporter": "python",
   "pygments_lexer": "ipython3",
   "version": "3.7.3"
  }
 },
 "nbformat": 4,
 "nbformat_minor": 2
}
