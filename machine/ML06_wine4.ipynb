{
 "cells": [
  {
   "cell_type": "code",
   "execution_count": 29,
   "metadata": {},
   "outputs": [
    {
     "name": "stdout",
     "output_type": "stream",
     "text": [
      "Res: 0.9489795918367347\n",
      "Acc:  0.9489795918367347\n"
     ]
    }
   ],
   "source": [
    "import pandas as pd\n",
    "import numpy as np\n",
    "\n",
    "from sklearn.ensemble import RandomForestClassifier\n",
    "from sklearn.metrics import classification_report, accuracy_score\n",
    "\n",
    "import warnings\n",
    "warnings.filterwarnings(action='ignore')\n",
    "\n",
    "wine = pd.read_csv(\"./data/winequality-white.csv\",sep=\";\", encoding='utf-8')\n",
    "\n",
    "#1. 데이터\n",
    "\n",
    "y=wine['quality']\n",
    "x=wine.drop(\"quality\",axis=1)\n",
    "\n",
    "new_list=[]\n",
    "\n",
    "for v in list(y):\n",
    "    if v <= 4:\n",
    "        new_list += [0]\n",
    "    elif v<= 7:\n",
    "        new_list += [1]\n",
    "    else:\n",
    "        new_list += [2]\n",
    "\n",
    "y=new_list\n",
    "    \n",
    "from sklearn.model_selection import train_test_split\n",
    "\n",
    "x_train, x_test, y_train, y_test = train_test_split(x,y, train_size=0.8)\n",
    "\n",
    "#2. 모델 구성\n",
    "model=RandomForestClassifier()\n",
    "\n",
    "#3. 훈련\n",
    "model.fit(x_train,y_train)\n",
    "\n",
    "res=model.score(x_test,y_test) # Accuracy만 반환\n",
    "print(\"Res:\",res)\n",
    "\n",
    "#4. 평가\n",
    "y_pred = model.predict(x_test)\n",
    "print(\"Acc: \", accuracy_score( y_pred, y_test))"
   ]
  }
 ],
 "metadata": {
  "kernelspec": {
   "display_name": "Python [conda env:aws_neuron_tensorflow_p36]",
   "language": "python",
   "name": "conda-env-aws_neuron_tensorflow_p36-py"
  },
  "language_info": {
   "codemirror_mode": {
    "name": "ipython",
    "version": 3
   },
   "file_extension": ".py",
   "mimetype": "text/x-python",
   "name": "python",
   "nbconvert_exporter": "python",
   "pygments_lexer": "ipython3",
   "version": "3.6.5"
  }
 },
 "nbformat": 4,
 "nbformat_minor": 2
}
