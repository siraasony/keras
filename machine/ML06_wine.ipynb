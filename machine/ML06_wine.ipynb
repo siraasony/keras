{
 "cells": [
  {
   "cell_type": "code",
   "execution_count": 77,
   "metadata": {
    "scrolled": true
   },
   "outputs": [
    {
     "name": "stdout",
     "output_type": "stream",
     "text": [
      "Res: 0.6438775510204081\n",
      "Acc:  0.6438775510204081\n",
      "\n",
      " Classification Report \n",
      "\n",
      "               precision    recall  f1-score   support\n",
      "\n",
      "           3       0.00      0.00      0.00         4\n",
      "           4       0.50      0.18      0.26        34\n",
      "           5       0.63      0.72      0.67       284\n",
      "           6       0.65      0.74      0.69       457\n",
      "           7       0.63      0.44      0.52       168\n",
      "           8       0.83      0.33      0.48        30\n",
      "           9       0.00      0.00      0.00         3\n",
      "\n",
      "   micro avg       0.64      0.64      0.64       980\n",
      "   macro avg       0.46      0.34      0.37       980\n",
      "weighted avg       0.64      0.64      0.63       980\n",
      "\n"
     ]
    }
   ],
   "source": [
    "import pandas as pd\n",
    "import numpy as np\n",
    "\n",
    "from sklearn.ensemble import RandomForestClassifier\n",
    "from sklearn.metrics import classification_report, accuracy_score\n",
    "\n",
    "import warnings\n",
    "warnings.filterwarnings(action='ignore')\n",
    "\n",
    "wine = pd.read_csv(\"./data/winequality-white.csv\",sep=\";\", encoding='utf-8')\n",
    "     \n",
    "#1. 데이터\n",
    "\n",
    "y=wine['quality']\n",
    "x=wine.drop(\"quality\",axis=1)\n",
    "\n",
    "from sklearn.model_selection import train_test_split\n",
    "\n",
    "x_train, x_test, y_train, y_test = train_test_split(x,y, train_size=0.8)\n",
    "\n",
    "#2. 모델 구성\n",
    "model=RandomForestClassifier()\n",
    "\n",
    "#3. 훈련\n",
    "model.fit(x_train,y_train)\n",
    "\n",
    "res=model.score(x_test,y_test) # Accuracy만 반환\n",
    "print(\"Res:\",res)\n",
    "\n",
    "#4. 평가\n",
    "y_pred = model.predict(x_test)\n",
    "print(\"Acc: \", accuracy_score( y_test, y_pred))\n",
    "print('\\n Classification Report \\n\\n',classification_report(y_test, y_pred))\n"
   ]
  },
  {
   "cell_type": "code",
   "execution_count": null,
   "metadata": {},
   "outputs": [],
   "source": []
  },
  {
   "cell_type": "code",
   "execution_count": null,
   "metadata": {},
   "outputs": [],
   "source": []
  },
  {
   "cell_type": "code",
   "execution_count": null,
   "metadata": {},
   "outputs": [],
   "source": []
  }
 ],
 "metadata": {
  "kernelspec": {
   "display_name": "Python 3",
   "language": "python",
   "name": "python3"
  },
  "language_info": {
   "codemirror_mode": {
    "name": "ipython",
    "version": 3
   },
   "file_extension": ".py",
   "mimetype": "text/x-python",
   "name": "python",
   "nbconvert_exporter": "python",
   "pygments_lexer": "ipython3",
   "version": "3.7.3"
  }
 },
 "nbformat": 4,
 "nbformat_minor": 2
}
