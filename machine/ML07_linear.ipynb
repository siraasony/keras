{
 "cells": [
  {
   "cell_type": "code",
   "execution_count": 72,
   "metadata": {},
   "outputs": [
    {
     "name": "stdout",
     "output_type": "stream",
     "text": [
      "Res(LR): 0.7627226139117502\n",
      "Res(Ridge): 0.7657866981739894\n",
      "Res(Lasso): 0.730482046947738\n",
      "0.730482046947738\n"
     ]
    }
   ],
   "source": [
    "from sklearn.datasets import load_boston\n",
    "from sklearn.linear_model import LinearRegression, Ridge, Lasso\n",
    "from sklearn.metrics import r2_score\n",
    "\n",
    "#1. 공통 데이터\n",
    "\n",
    "boston = load_boston()\n",
    "\n",
    "x = boston.data\n",
    "y = boston.target\n",
    "\n",
    "from sklearn.model_selection import train_test_split\n",
    "\n",
    "x_train, x_test, y_train, y_test = train_test_split(x,y, train_size=0.8)\n",
    "\n",
    "###############################################################################\n",
    "\n",
    "#2. 모델 구성\n",
    "model1=LinearRegression()\n",
    "\n",
    "#3. 훈련\n",
    "model1.fit(x_train,y_train)\n",
    "\n",
    "#4. 평가\n",
    "res=model1.score(x_test,y_test) # Accuracy만 반환\n",
    "print(\"Res(LR):\",res)\n",
    "\n",
    "###############################################################################\n",
    "\n",
    "#2. 모델 구성\n",
    "model2=Ridge()\n",
    "\n",
    "#3. 훈련\n",
    "model2.fit(x_train,y_train)\n",
    "\n",
    "#4. 평가\n",
    "res=model2.score(x_test,y_test) # Accuracy만 반환\n",
    "print(\"Res(Ridge):\",res)\n",
    "\n",
    "###############################################################################\n",
    "\n",
    "#2. 모델 구성\n",
    "model3=Lasso()\n",
    "\n",
    "#3. 훈련\n",
    "model3.fit(x_train,y_train)\n",
    "\n",
    "#4. 평가\n",
    "res=model3.score(x_test,y_test) # Accuracy만 반환\n",
    "print(\"Res(Lasso):\",res)\n",
    "\n",
    "y_pred=model3.predict(x_test)\n",
    "r2_sc=r2_score(y_test,y_pred)\n",
    "print(r2_sc)\n",
    "\n",
    "###############################################################################\n",
    "\n"
   ]
  },
  {
   "cell_type": "code",
   "execution_count": null,
   "metadata": {},
   "outputs": [],
   "source": []
  },
  {
   "cell_type": "code",
   "execution_count": null,
   "metadata": {},
   "outputs": [],
   "source": []
  }
 ],
 "metadata": {
  "kernelspec": {
   "display_name": "Python [conda env:aws_neuron_tensorflow_p36]",
   "language": "python",
   "name": "conda-env-aws_neuron_tensorflow_p36-py"
  },
  "language_info": {
   "codemirror_mode": {
    "name": "ipython",
    "version": 3
   },
   "file_extension": ".py",
   "mimetype": "text/x-python",
   "name": "python",
   "nbconvert_exporter": "python",
   "pygments_lexer": "ipython3",
   "version": "3.6.5"
  }
 },
 "nbformat": 4,
 "nbformat_minor": 2
}
