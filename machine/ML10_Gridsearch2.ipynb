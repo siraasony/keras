{
 "cells": [
  {
   "cell_type": "code",
   "execution_count": 109,
   "metadata": {},
   "outputs": [
    {
     "name": "stdout",
     "output_type": "stream",
     "text": [
      "acc 0.9666666666666667\n",
      "{'criterion': 'gini', 'max_depth': 4, 'n_estimators': 50}\n"
     ]
    }
   ],
   "source": [
    "import pandas as pd\n",
    "import numpy as np\n",
    "\n",
    "from sklearn.svm import SVC\n",
    "from sklearn.model_selection import train_test_split, GridSearchCV, KFold\n",
    "from sklearn.metrics import accuracy_score\n",
    "from sklearn.utils.testing import all_estimators\n",
    "from sklearn.ensemble import RandomForestClassifier\n",
    "\n",
    "import warnings\n",
    "warnings.filterwarnings(action='ignore')\n",
    "\n",
    "iris_data =pd.read_csv(\"./data/iris2.csv\",encoding='utf-8')\n",
    "\n",
    "y=iris_data.loc[:,'Name']#.values\n",
    "x=iris_data.iloc[:,:-1]#.values\n",
    "\n",
    "warnings.filterwarnings(action='ignore')\n",
    "x_train, x_test, y_train, y_test = train_test_split(x,y, train_size=0.8)\n",
    "\n",
    "\n",
    "#RandomForestClassifier\n",
    "\n",
    "#parameters = [ {\"n_estimators\":[10,50,100], \"criterion\":['gini','entropy']} ]\n",
    "\n",
    "\n",
    "kfold_cv = KFold(n_splits=5, shuffle=True)\n",
    "\n",
    "parameters = [ {\"n_estimators\": [50], \"criterion\":['entropy','gini'], \"max_depth\":[3,4,5]}]\n",
    "clf=GridSearchCV( RandomForestClassifier(), parameters, cv=kfold_cv)\n",
    "\n",
    "cl=clf.fit(x_train,y_train)\n",
    "\n",
    "y_pred=clf.predict(x_test)\n",
    "print(\"acc\", accuracy_score(y_test, y_pred))\n",
    "\n",
    "#print(cl.best_estimator_)\n",
    "print(cl.best_params_)"
   ]
  },
  {
   "cell_type": "code",
   "execution_count": null,
   "metadata": {},
   "outputs": [],
   "source": []
  },
  {
   "cell_type": "code",
   "execution_count": null,
   "metadata": {},
   "outputs": [],
   "source": []
  }
 ],
 "metadata": {
  "kernelspec": {
   "display_name": "Python [conda env:aws_neuron_tensorflow_p36]",
   "language": "python",
   "name": "conda-env-aws_neuron_tensorflow_p36-py"
  },
  "language_info": {
   "codemirror_mode": {
    "name": "ipython",
    "version": 3
   },
   "file_extension": ".py",
   "mimetype": "text/x-python",
   "name": "python",
   "nbconvert_exporter": "python",
   "pygments_lexer": "ipython3",
   "version": "3.6.5"
  }
 },
 "nbformat": 4,
 "nbformat_minor": 2
}
