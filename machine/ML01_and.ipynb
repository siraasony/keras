{
 "cells": [
  {
   "cell_type": "code",
   "execution_count": 2,
   "metadata": {},
   "outputs": [
    {
     "name": "stdout",
     "output_type": "stream",
     "text": [
      "[[0, 0], [1, 0], [0, 1], [1, 1]] 의 예측 결과: [0 0 0 1]\n",
      "Acc:  1.0\n"
     ]
    }
   ],
   "source": [
    "from sklearn.svm import LinearSVC\n",
    "from sklearn.metrics import accuracy_score\n",
    "\n",
    "#1. 데이터\n",
    "x_train = [ [0,0], [1,0], [0,1], [1,1] ]\n",
    "y_train = [ 0, 0, 0, 1]\n",
    "\n",
    "#2. 모델\n",
    "model=LinearSVC()\n",
    "\n",
    "#3. 훈련\n",
    "model.fit(x_train,y_train)\n",
    "\n",
    "#4. 평가\n",
    "x_test = [ [0,0], [1,0], [0,1], [1,1] ]\n",
    "y_predict = model.predict(x_test)\n",
    "\n",
    "print(x_test,\"의 예측 결과:\",y_predict)\n",
    "print(\"Acc: \",accuracy_score( [0,0,0,1], y_predict))"
   ]
  },
  {
   "cell_type": "code",
   "execution_count": null,
   "metadata": {},
   "outputs": [],
   "source": []
  }
 ],
 "metadata": {
  "kernelspec": {
   "display_name": "Python 3",
   "language": "python",
   "name": "python3"
  },
  "language_info": {
   "codemirror_mode": {
    "name": "ipython",
    "version": 3
   },
   "file_extension": ".py",
   "mimetype": "text/x-python",
   "name": "python",
   "nbconvert_exporter": "python",
   "pygments_lexer": "ipython3",
   "version": "3.7.3"
  }
 },
 "nbformat": 4,
 "nbformat_minor": 2
}
