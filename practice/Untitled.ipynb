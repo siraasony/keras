{
 "cells": [
  {
   "cell_type": "code",
   "execution_count": 20,
   "metadata": {},
   "outputs": [],
   "source": [
    "import pandas as pd\n",
    "import numpy as np\n",
    "import matplotlib.pyplot as plt\n",
    "from keras.models import Sequential\n",
    "from keras.layers import LSTM, Dropout, Dense, Activation\n",
    "# from keras.callbacks import TensorBoard, ModelCheckpoint, ReduceLROnPlateau\n",
    "import datetime"
   ]
  },
  {
   "cell_type": "code",
   "execution_count": 21,
   "metadata": {},
   "outputs": [
    {
     "data": {
      "text/html": [
       "<div>\n",
       "<style scoped>\n",
       "    .dataframe tbody tr th:only-of-type {\n",
       "        vertical-align: middle;\n",
       "    }\n",
       "\n",
       "    .dataframe tbody tr th {\n",
       "        vertical-align: top;\n",
       "    }\n",
       "\n",
       "    .dataframe thead th {\n",
       "        text-align: right;\n",
       "    }\n",
       "</style>\n",
       "<table border=\"1\" class=\"dataframe\">\n",
       "  <thead>\n",
       "    <tr style=\"text-align: right;\">\n",
       "      <th></th>\n",
       "      <th>일자</th>\n",
       "      <th>시가</th>\n",
       "      <th>고가</th>\n",
       "      <th>저가</th>\n",
       "      <th>종가</th>\n",
       "      <th>거래량</th>\n",
       "    </tr>\n",
       "  </thead>\n",
       "  <tbody>\n",
       "    <tr>\n",
       "      <th>0</th>\n",
       "      <td>2020-01-31</td>\n",
       "      <td>57,800</td>\n",
       "      <td>58,400</td>\n",
       "      <td>56,400</td>\n",
       "      <td>56,400</td>\n",
       "      <td>19,749,457</td>\n",
       "    </tr>\n",
       "    <tr>\n",
       "      <th>1</th>\n",
       "      <td>2020-01-30</td>\n",
       "      <td>58,800</td>\n",
       "      <td>58,800</td>\n",
       "      <td>56,800</td>\n",
       "      <td>57,200</td>\n",
       "      <td>20,821,939</td>\n",
       "    </tr>\n",
       "    <tr>\n",
       "      <th>2</th>\n",
       "      <td>2020-01-29</td>\n",
       "      <td>59,100</td>\n",
       "      <td>59,700</td>\n",
       "      <td>58,800</td>\n",
       "      <td>59,100</td>\n",
       "      <td>16,446,102</td>\n",
       "    </tr>\n",
       "    <tr>\n",
       "      <th>3</th>\n",
       "      <td>2020-01-28</td>\n",
       "      <td>59,400</td>\n",
       "      <td>59,400</td>\n",
       "      <td>58,300</td>\n",
       "      <td>58,800</td>\n",
       "      <td>23,664,541</td>\n",
       "    </tr>\n",
       "    <tr>\n",
       "      <th>4</th>\n",
       "      <td>2020-01-23</td>\n",
       "      <td>61,800</td>\n",
       "      <td>61,800</td>\n",
       "      <td>60,700</td>\n",
       "      <td>60,800</td>\n",
       "      <td>14,916,555</td>\n",
       "    </tr>\n",
       "  </tbody>\n",
       "</table>\n",
       "</div>"
      ],
      "text/plain": [
       "           일자      시가      고가      저가      종가         거래량\n",
       "0  2020-01-31  57,800  58,400  56,400  56,400  19,749,457\n",
       "1  2020-01-30  58,800  58,800  56,800  57,200  20,821,939\n",
       "2  2020-01-29  59,100  59,700  58,800  59,100  16,446,102\n",
       "3  2020-01-28  59,400  59,400  58,300  58,800  23,664,541\n",
       "4  2020-01-23  61,800  61,800  60,700  60,800  14,916,555"
      ]
     },
     "execution_count": 21,
     "metadata": {},
     "output_type": "execute_result"
    }
   ],
   "source": [
    "s_data = pd.read_csv('data/samsung.csv', encoding = 'euc-kr')\n",
    "s_data.head(5)"
   ]
  },
  {
   "cell_type": "code",
   "execution_count": 22,
   "metadata": {},
   "outputs": [],
   "source": [
    "s_data = s_data.rename(columns = {'일자' : 'datetime', '시가' : 'time_price', '고가' : 'high_price', '저가':'row_price', '종가':'final_price','거래량':'amount'})"
   ]
  },
  {
   "cell_type": "code",
   "execution_count": 23,
   "metadata": {},
   "outputs": [
    {
     "data": {
      "text/html": [
       "<div>\n",
       "<style scoped>\n",
       "    .dataframe tbody tr th:only-of-type {\n",
       "        vertical-align: middle;\n",
       "    }\n",
       "\n",
       "    .dataframe tbody tr th {\n",
       "        vertical-align: top;\n",
       "    }\n",
       "\n",
       "    .dataframe thead th {\n",
       "        text-align: right;\n",
       "    }\n",
       "</style>\n",
       "<table border=\"1\" class=\"dataframe\">\n",
       "  <thead>\n",
       "    <tr style=\"text-align: right;\">\n",
       "      <th></th>\n",
       "      <th>datetime</th>\n",
       "      <th>time_price</th>\n",
       "      <th>high_price</th>\n",
       "      <th>row_price</th>\n",
       "      <th>final_price</th>\n",
       "      <th>amount</th>\n",
       "    </tr>\n",
       "  </thead>\n",
       "  <tbody>\n",
       "    <tr>\n",
       "      <th>0</th>\n",
       "      <td>2020-01-31</td>\n",
       "      <td>57,800</td>\n",
       "      <td>58,400</td>\n",
       "      <td>56,400</td>\n",
       "      <td>56,400</td>\n",
       "      <td>19,749,457</td>\n",
       "    </tr>\n",
       "    <tr>\n",
       "      <th>1</th>\n",
       "      <td>2020-01-30</td>\n",
       "      <td>58,800</td>\n",
       "      <td>58,800</td>\n",
       "      <td>56,800</td>\n",
       "      <td>57,200</td>\n",
       "      <td>20,821,939</td>\n",
       "    </tr>\n",
       "    <tr>\n",
       "      <th>2</th>\n",
       "      <td>2020-01-29</td>\n",
       "      <td>59,100</td>\n",
       "      <td>59,700</td>\n",
       "      <td>58,800</td>\n",
       "      <td>59,100</td>\n",
       "      <td>16,446,102</td>\n",
       "    </tr>\n",
       "    <tr>\n",
       "      <th>3</th>\n",
       "      <td>2020-01-28</td>\n",
       "      <td>59,400</td>\n",
       "      <td>59,400</td>\n",
       "      <td>58,300</td>\n",
       "      <td>58,800</td>\n",
       "      <td>23,664,541</td>\n",
       "    </tr>\n",
       "    <tr>\n",
       "      <th>4</th>\n",
       "      <td>2020-01-23</td>\n",
       "      <td>61,800</td>\n",
       "      <td>61,800</td>\n",
       "      <td>60,700</td>\n",
       "      <td>60,800</td>\n",
       "      <td>14,916,555</td>\n",
       "    </tr>\n",
       "  </tbody>\n",
       "</table>\n",
       "</div>"
      ],
      "text/plain": [
       "     datetime time_price high_price row_price final_price      amount\n",
       "0  2020-01-31     57,800     58,400    56,400      56,400  19,749,457\n",
       "1  2020-01-30     58,800     58,800    56,800      57,200  20,821,939\n",
       "2  2020-01-29     59,100     59,700    58,800      59,100  16,446,102\n",
       "3  2020-01-28     59,400     59,400    58,300      58,800  23,664,541\n",
       "4  2020-01-23     61,800     61,800    60,700      60,800  14,916,555"
      ]
     },
     "execution_count": 23,
     "metadata": {},
     "output_type": "execute_result"
    }
   ],
   "source": [
    "s_data.head(5)"
   ]
  },
  {
   "cell_type": "code",
   "execution_count": 24,
   "metadata": {},
   "outputs": [],
   "source": [
    "s_data = s_data.replace('\\D', '', regex=True).astype(int)"
   ]
  },
  {
   "cell_type": "code",
   "execution_count": 25,
   "metadata": {},
   "outputs": [
    {
     "name": "stdout",
     "output_type": "stream",
     "text": [
      "<class 'pandas.core.frame.DataFrame'>\n",
      "RangeIndex: 426 entries, 0 to 425\n",
      "Data columns (total 6 columns):\n",
      "datetime       426 non-null int32\n",
      "time_price     426 non-null int32\n",
      "high_price     426 non-null int32\n",
      "row_price      426 non-null int32\n",
      "final_price    426 non-null int32\n",
      "amount         426 non-null int32\n",
      "dtypes: int32(6)\n",
      "memory usage: 10.1 KB\n"
     ]
    }
   ],
   "source": [
    "s_data.info()"
   ]
  },
  {
   "cell_type": "code",
   "execution_count": 26,
   "metadata": {},
   "outputs": [
    {
     "data": {
      "text/html": [
       "<div>\n",
       "<style scoped>\n",
       "    .dataframe tbody tr th:only-of-type {\n",
       "        vertical-align: middle;\n",
       "    }\n",
       "\n",
       "    .dataframe tbody tr th {\n",
       "        vertical-align: top;\n",
       "    }\n",
       "\n",
       "    .dataframe thead th {\n",
       "        text-align: right;\n",
       "    }\n",
       "</style>\n",
       "<table border=\"1\" class=\"dataframe\">\n",
       "  <thead>\n",
       "    <tr style=\"text-align: right;\">\n",
       "      <th></th>\n",
       "      <th>datetime</th>\n",
       "      <th>time_price</th>\n",
       "      <th>high_price</th>\n",
       "      <th>row_price</th>\n",
       "      <th>final_price</th>\n",
       "      <th>amount</th>\n",
       "    </tr>\n",
       "  </thead>\n",
       "  <tbody>\n",
       "    <tr>\n",
       "      <th>0</th>\n",
       "      <td>20200131</td>\n",
       "      <td>57800</td>\n",
       "      <td>58400</td>\n",
       "      <td>56400</td>\n",
       "      <td>56400</td>\n",
       "      <td>19749457</td>\n",
       "    </tr>\n",
       "    <tr>\n",
       "      <th>1</th>\n",
       "      <td>20200130</td>\n",
       "      <td>58800</td>\n",
       "      <td>58800</td>\n",
       "      <td>56800</td>\n",
       "      <td>57200</td>\n",
       "      <td>20821939</td>\n",
       "    </tr>\n",
       "    <tr>\n",
       "      <th>2</th>\n",
       "      <td>20200129</td>\n",
       "      <td>59100</td>\n",
       "      <td>59700</td>\n",
       "      <td>58800</td>\n",
       "      <td>59100</td>\n",
       "      <td>16446102</td>\n",
       "    </tr>\n",
       "    <tr>\n",
       "      <th>3</th>\n",
       "      <td>20200128</td>\n",
       "      <td>59400</td>\n",
       "      <td>59400</td>\n",
       "      <td>58300</td>\n",
       "      <td>58800</td>\n",
       "      <td>23664541</td>\n",
       "    </tr>\n",
       "    <tr>\n",
       "      <th>4</th>\n",
       "      <td>20200123</td>\n",
       "      <td>61800</td>\n",
       "      <td>61800</td>\n",
       "      <td>60700</td>\n",
       "      <td>60800</td>\n",
       "      <td>14916555</td>\n",
       "    </tr>\n",
       "  </tbody>\n",
       "</table>\n",
       "</div>"
      ],
      "text/plain": [
       "   datetime  time_price  high_price  row_price  final_price    amount\n",
       "0  20200131       57800       58400      56400        56400  19749457\n",
       "1  20200130       58800       58800      56800        57200  20821939\n",
       "2  20200129       59100       59700      58800        59100  16446102\n",
       "3  20200128       59400       59400      58300        58800  23664541\n",
       "4  20200123       61800       61800      60700        60800  14916555"
      ]
     },
     "execution_count": 26,
     "metadata": {},
     "output_type": "execute_result"
    }
   ],
   "source": [
    "s_data.head(5)"
   ]
  },
  {
   "cell_type": "code",
   "execution_count": 27,
   "metadata": {},
   "outputs": [],
   "source": [
    "s_data_drop = s_data.copy()\n",
    "s_data_drop = s_data_drop.drop(['final_price'], axis = 1)"
   ]
  },
  {
   "cell_type": "code",
   "execution_count": 28,
   "metadata": {},
   "outputs": [],
   "source": [
    "s_data = s_data.values[0:].astype(np.float)\n",
    "s_data_drop = s_data_drop.values[0:].astype(np.float)"
   ]
  },
  {
   "cell_type": "code",
   "execution_count": 29,
   "metadata": {},
   "outputs": [
    {
     "data": {
      "text/plain": [
       "array([[20200131.,    57800.,    58400.,    56400.,    56400., 19749457.],\n",
       "       [20200130.,    58800.,    58800.,    56800.,    57200., 20821939.],\n",
       "       [20200129.,    59100.,    59700.,    58800.,    59100., 16446102.],\n",
       "       ...,\n",
       "       [20180509.,    52600.,    52800.,    50900.,    50900., 16128305.],\n",
       "       [20180508.,    52600.,    53200.,    51900.,    52600., 23104720.],\n",
       "       [20180504.,    53000.,    53900.,    51800.,    51900., 39565391.]])"
      ]
     },
     "execution_count": 29,
     "metadata": {},
     "output_type": "execute_result"
    }
   ],
   "source": [
    "s_data"
   ]
  },
  {
   "cell_type": "code",
   "execution_count": 30,
   "metadata": {},
   "outputs": [
    {
     "data": {
      "text/plain": [
       "array([[20200131.,    57800.,    58400.,    56400., 19749457.],\n",
       "       [20200130.,    58800.,    58800.,    56800., 20821939.],\n",
       "       [20200129.,    59100.,    59700.,    58800., 16446102.],\n",
       "       ...,\n",
       "       [20180509.,    52600.,    52800.,    50900., 16128305.],\n",
       "       [20180508.,    52600.,    53200.,    51900., 23104720.],\n",
       "       [20180504.,    53000.,    53900.,    51800., 39565391.]])"
      ]
     },
     "execution_count": 30,
     "metadata": {},
     "output_type": "execute_result"
    }
   ],
   "source": [
    "s_data_drop"
   ]
  },
  {
   "cell_type": "code",
   "execution_count": 31,
   "metadata": {},
   "outputs": [
    {
     "name": "stdout",
     "output_type": "stream",
     "text": [
      "(426, 5)\n"
     ]
    }
   ],
   "source": [
    "print (s_data_drop.shape)\n",
    "\n",
    "x = s_data_drop\n",
    "y = s_data[:, [4]]"
   ]
  },
  {
   "cell_type": "code",
   "execution_count": 32,
   "metadata": {},
   "outputs": [
    {
     "name": "stdout",
     "output_type": "stream",
     "text": [
      "[[20200131.    57800.    58400.    56400. 19749457.]\n",
      " [20200130.    58800.    58800.    56800. 20821939.]\n",
      " [20200129.    59100.    59700.    58800. 16446102.]\n",
      " [20200128.    59400.    59400.    58300. 23664541.]\n",
      " [20200123.    61800.    61800.    60700. 14916555.]] -> [62300.]\n"
     ]
    }
   ],
   "source": [
    "data_x = []\n",
    "data_y = []\n",
    "\n",
    "for i in range(0, len(y) - 5):\n",
    "    _x = x[i : i+5]\n",
    "    _y = y[i + 5] # 다음 나타날 주가(정답)\n",
    "    if i is 0:\n",
    "        print(_x, \"->\", _y) # 첫번째 행만 출력해 봄\n",
    "    data_x.append(_x) # dataX 리스트에 추가\n",
    "    data_y.append(_y) # dataY 리스트에 추가"
   ]
  },
  {
   "cell_type": "code",
   "execution_count": 33,
   "metadata": {},
   "outputs": [],
   "source": [
    "train_size = int(len(data_y) * 0.8)\n",
    "test_size = len(data_y) - train_size\n",
    "\n",
    "train_x = np.array(data_x[0:train_size])\n",
    "train_y = np.array(data_y[0:train_size])\n",
    "\n",
    "test_x = np.array(data_x[train_size:len(data_x)])\n",
    "test_y = np.array(data_y[train_size:len(data_y)])"
   ]
  },
  {
   "cell_type": "code",
   "execution_count": 34,
   "metadata": {},
   "outputs": [
    {
     "name": "stdout",
     "output_type": "stream",
     "text": [
      "(336, 5, 5)\n",
      "(85, 5, 5)\n"
     ]
    }
   ],
   "source": [
    "print(train_x.shape)\n",
    "print (test_x.shape)"
   ]
  },
  {
   "cell_type": "code",
   "execution_count": 35,
   "metadata": {},
   "outputs": [],
   "source": [
    "train_x = train_x.reshape(336, 25, 1)\n",
    "test_x = test_x.reshape(85, 25, 1)"
   ]
  },
  {
   "cell_type": "code",
   "execution_count": 36,
   "metadata": {},
   "outputs": [
    {
     "name": "stdout",
     "output_type": "stream",
     "text": [
      "(336, 25, 1)\n",
      "(85, 25, 1)\n"
     ]
    }
   ],
   "source": [
    "print(train_x.shape)\n",
    "print (test_x.shape)"
   ]
  },
  {
   "cell_type": "code",
   "execution_count": 37,
   "metadata": {},
   "outputs": [],
   "source": [
    "model = Sequential()\n",
    "model.add(LSTM(10, activation = 'relu', input_shape = (25,1), return_sequences = True))   # (열, 몇 개씩 자를지)\n",
    "model.add(LSTM(5, activation = 'relu', return_sequences = True))\n",
    "model.add(LSTM(6, activation = 'relu', return_sequences = True))\n",
    "model.add(LSTM(9, activation = 'relu', return_sequences = True))\n",
    "model.add(LSTM(1, activation = 'relu', return_sequences = False))"
   ]
  },
  {
   "cell_type": "code",
   "execution_count": 38,
   "metadata": {},
   "outputs": [
    {
     "name": "stdout",
     "output_type": "stream",
     "text": [
      "Epoch 1/100\n",
      "336/336 [==============================] - 13s 40ms/step - loss: 2167935530.6667 - mse: 2167935744.0000\n",
      "Epoch 2/100\n",
      "336/336 [==============================] - 12s 35ms/step - loss: 2167935530.6667 - mse: 2167937024.0000\n",
      "Epoch 3/100\n",
      "336/336 [==============================] - 12s 35ms/step - loss: 2167935530.6667 - mse: 2167936256.0000\n",
      "Epoch 4/100\n",
      "336/336 [==============================] - 12s 35ms/step - loss: 2167935530.6667 - mse: 2167935232.0000\n",
      "Epoch 5/100\n",
      "336/336 [==============================] - 12s 35ms/step - loss: 2167935530.6667 - mse: 2167935232.0000\n",
      "Epoch 6/100\n",
      "336/336 [==============================] - 12s 36ms/step - loss: 2167935530.6667 - mse: 2167935232.0000\n",
      "Epoch 7/100\n",
      "336/336 [==============================] - 12s 36ms/step - loss: 2167935530.6667 - mse: 2167935488.0000\n",
      "Epoch 8/100\n",
      "336/336 [==============================] - 12s 36ms/step - loss: 2167935530.6667 - mse: 2167936000.0000\n",
      "Epoch 9/100\n",
      "336/336 [==============================] - 13s 37ms/step - loss: 2167935530.6667 - mse: 2167935488.0000\n",
      "Epoch 10/100\n",
      "336/336 [==============================] - 12s 36ms/step - loss: 2167935530.6667 - mse: 2167935488.0000\n",
      "Epoch 11/100\n",
      "336/336 [==============================] - 12s 36ms/step - loss: 2167935530.6667 - mse: 2167935232.0000\n",
      "Epoch 12/100\n",
      "336/336 [==============================] - 13s 39ms/step - loss: 2167935530.6667 - mse: 2167936000.0000\n",
      "Epoch 13/100\n",
      "336/336 [==============================] - 12s 36ms/step - loss: 2167935530.6667 - mse: 2167934976.0000\n",
      "Epoch 14/100\n",
      "336/336 [==============================] - 12s 36ms/step - loss: 2167935530.6667 - mse: 2167936256.0000\n",
      "Epoch 15/100\n",
      "336/336 [==============================] - 12s 36ms/step - loss: 2167935530.6667 - mse: 2167935744.0000\n",
      "Epoch 16/100\n",
      "336/336 [==============================] - 12s 36ms/step - loss: 2167935530.6667 - mse: 2167936000.0000\n",
      "Epoch 17/100\n",
      "336/336 [==============================] - 12s 36ms/step - loss: 2167935530.6667 - mse: 2167935488.0000\n",
      "Epoch 18/100\n",
      "336/336 [==============================] - 12s 36ms/step - loss: 2167935530.6667 - mse: 2167936000.0000\n",
      "Epoch 19/100\n",
      "336/336 [==============================] - 12s 36ms/step - loss: 2167935530.6667 - mse: 2167936000.0000\n",
      "Epoch 20/100\n",
      "336/336 [==============================] - 12s 36ms/step - loss: 2167935530.6667 - mse: 2167936256.0000\n",
      "Epoch 21/100\n",
      "336/336 [==============================] - 12s 35ms/step - loss: 2167935530.6667 - mse: 2167936512.0000\n",
      "Epoch 22/100\n",
      "336/336 [==============================] - 12s 36ms/step - loss: 2167935530.6667 - mse: 2167936768.0000\n",
      "Epoch 23/100\n",
      "336/336 [==============================] - 12s 36ms/step - loss: 2167935530.6667 - mse: 2167936256.0000\n",
      "Epoch 24/100\n",
      "336/336 [==============================] - 12s 36ms/step - loss: 2167935530.6667 - mse: 2167937280.0000\n",
      "Epoch 25/100\n",
      "336/336 [==============================] - 12s 36ms/step - loss: 2167935530.6667 - mse: 2167936256.0000\n",
      "Epoch 26/100\n",
      "336/336 [==============================] - 12s 36ms/step - loss: 2167935530.6667 - mse: 2167935488.0000\n",
      "Epoch 27/100\n",
      "336/336 [==============================] - 12s 36ms/step - loss: 2167935530.6667 - mse: 2167935744.0000\n",
      "Epoch 28/100\n",
      "336/336 [==============================] - 12s 36ms/step - loss: 2167935530.6667 - mse: 2167935744.0000\n",
      "Epoch 29/100\n",
      "336/336 [==============================] - 12s 36ms/step - loss: 2167935530.6667 - mse: 2167936256.0000\n",
      "Epoch 30/100\n",
      "336/336 [==============================] - 12s 36ms/step - loss: 2167935530.6667 - mse: 2167936000.0000\n",
      "Epoch 31/100\n",
      "336/336 [==============================] - 12s 36ms/step - loss: 2167935530.6667 - mse: 2167936256.0000\n",
      "Epoch 32/100\n",
      "336/336 [==============================] - 12s 36ms/step - loss: 2167935530.6667 - mse: 2167935232.0000\n",
      "Epoch 33/100\n",
      "336/336 [==============================] - 12s 35ms/step - loss: 2167935530.6667 - mse: 2167935488.0000\n",
      "Epoch 34/100\n",
      "336/336 [==============================] - 12s 35ms/step - loss: 2167935530.6667 - mse: 2167936256.0000\n",
      "Epoch 35/100\n",
      "336/336 [==============================] - 12s 35ms/step - loss: 2167935530.6667 - mse: 2167935488.0000\n",
      "Epoch 36/100\n",
      "336/336 [==============================] - 12s 35ms/step - loss: 2167935530.6667 - mse: 2167936512.0000\n",
      "Epoch 37/100\n",
      "336/336 [==============================] - 12s 36ms/step - loss: 2167935530.6667 - mse: 2167935488.0000\n",
      "Epoch 38/100\n",
      "336/336 [==============================] - 12s 36ms/step - loss: 2167935530.6667 - mse: 2167935744.0000\n",
      "Epoch 39/100\n",
      "336/336 [==============================] - 12s 36ms/step - loss: 2167935530.6667 - mse: 2167936512.0000\n",
      "Epoch 40/100\n",
      "336/336 [==============================] - 12s 35ms/step - loss: 2167935530.6667 - mse: 2167936256.0000\n",
      "Epoch 41/100\n",
      "336/336 [==============================] - 12s 36ms/step - loss: 2167935530.6667 - mse: 2167934464.0000\n",
      "Epoch 42/100\n",
      "336/336 [==============================] - 14s 41ms/step - loss: 2167935530.6667 - mse: 2167935488.0000\n",
      "Epoch 43/100\n",
      "336/336 [==============================] - 14s 42ms/step - loss: 2167935530.6667 - mse: 2167936768.0000\n",
      "Epoch 44/100\n",
      "336/336 [==============================] - 14s 40ms/step - loss: 2167935530.6667 - mse: 2167935488.0000\n",
      "Epoch 45/100\n",
      "336/336 [==============================] - 14s 43ms/step - loss: 2167935530.6667 - mse: 2167936000.0000\n",
      "Epoch 46/100\n",
      "336/336 [==============================] - 14s 43ms/step - loss: 2167935530.6667 - mse: 2167937024.0000\n",
      "Epoch 47/100\n",
      "336/336 [==============================] - 14s 41ms/step - loss: 2167935530.6667 - mse: 2167936256.0000\n",
      "Epoch 48/100\n",
      "336/336 [==============================] - 13s 39ms/step - loss: 2167935530.6667 - mse: 2167935488.0000\n",
      "Epoch 49/100\n",
      "336/336 [==============================] - 13s 38ms/step - loss: 2167935530.6667 - mse: 2167936256.0000\n",
      "Epoch 50/100\n",
      "336/336 [==============================] - 12s 36ms/step - loss: 2167935530.6667 - mse: 2167936256.0000\n",
      "Epoch 51/100\n",
      "336/336 [==============================] - 12s 35ms/step - loss: 2167935530.6667 - mse: 2167936256.0000\n",
      "Epoch 52/100\n",
      "336/336 [==============================] - 12s 36ms/step - loss: 2167935530.6667 - mse: 2167936512.0000\n",
      "Epoch 53/100\n",
      "336/336 [==============================] - 12s 36ms/step - loss: 2167935530.6667 - mse: 2167936512.0000\n",
      "Epoch 54/100\n",
      "336/336 [==============================] - 12s 36ms/step - loss: 2167935530.6667 - mse: 2167935744.0000\n",
      "Epoch 55/100\n",
      "336/336 [==============================] - 12s 37ms/step - loss: 2167935530.6667 - mse: 2167936000.0000\n",
      "Epoch 56/100\n",
      "336/336 [==============================] - 12s 36ms/step - loss: 2167935530.6667 - mse: 2167936000.0000\n",
      "Epoch 57/100\n",
      "336/336 [==============================] - 12s 36ms/step - loss: 2167935530.6667 - mse: 2167936512.0000\n",
      "Epoch 58/100\n",
      "336/336 [==============================] - 12s 36ms/step - loss: 2167935530.6667 - mse: 2167935232.0000 0s - loss: 2166415429.4634 - mse: 2166414848.\n",
      "Epoch 59/100\n",
      "336/336 [==============================] - 12s 37ms/step - loss: 2167935530.6667 - mse: 2167935488.0000\n",
      "Epoch 60/100\n",
      "336/336 [==============================] - 12s 36ms/step - loss: 2167935530.6667 - mse: 2167934464.0000\n",
      "Epoch 61/100\n",
      "336/336 [==============================] - 12s 36ms/step - loss: 2167935530.6667 - mse: 2167936000.0000\n",
      "Epoch 62/100\n",
      "336/336 [==============================] - 12s 36ms/step - loss: 2167935530.6667 - mse: 2167936000.0000\n",
      "Epoch 63/100\n",
      "336/336 [==============================] - 12s 36ms/step - loss: 2167935530.6667 - mse: 2167935488.0000\n",
      "Epoch 64/100\n",
      "336/336 [==============================] - 12s 36ms/step - loss: 2167935530.6667 - mse: 2167936256.0000\n",
      "Epoch 65/100\n",
      "336/336 [==============================] - 12s 36ms/step - loss: 2167935530.6667 - mse: 2167935488.0000\n",
      "Epoch 66/100\n",
      "336/336 [==============================] - 13s 39ms/step - loss: 2167935530.6667 - mse: 2167936000.0000\n",
      "Epoch 67/100\n",
      "336/336 [==============================] - 12s 37ms/step - loss: 2167935530.6667 - mse: 2167936256.0000\n",
      "Epoch 68/100\n",
      "336/336 [==============================] - 12s 36ms/step - loss: 2167935530.6667 - mse: 2167935744.0000\n",
      "Epoch 69/100\n",
      "336/336 [==============================] - 12s 36ms/step - loss: 2167935530.6667 - mse: 2167936256.0000\n",
      "Epoch 70/100\n"
     ]
    },
    {
     "name": "stdout",
     "output_type": "stream",
     "text": [
      "336/336 [==============================] - 12s 36ms/step - loss: 2167935530.6667 - mse: 2167935488.0000\n",
      "Epoch 71/100\n",
      "336/336 [==============================] - 12s 36ms/step - loss: 2167935530.6667 - mse: 2167936000.0000\n",
      "Epoch 72/100\n",
      "336/336 [==============================] - 12s 36ms/step - loss: 2167935530.6667 - mse: 2167935232.0000\n",
      "Epoch 73/100\n",
      "336/336 [==============================] - 12s 37ms/step - loss: 2167935530.6667 - mse: 2167935488.0000\n",
      "Epoch 74/100\n",
      "336/336 [==============================] - 12s 36ms/step - loss: 2167935530.6667 - mse: 2167935744.0000\n",
      "Epoch 75/100\n",
      "336/336 [==============================] - 12s 36ms/step - loss: 2167935530.6667 - mse: 2167936256.0000\n",
      "Epoch 76/100\n",
      "336/336 [==============================] - 12s 36ms/step - loss: 2167935530.6667 - mse: 2167935488.0000\n",
      "Epoch 77/100\n",
      "336/336 [==============================] - 12s 36ms/step - loss: 2167935530.6667 - mse: 2167936512.0000\n",
      "Epoch 78/100\n",
      "336/336 [==============================] - 12s 36ms/step - loss: 2167935530.6667 - mse: 2167936256.0000\n",
      "Epoch 79/100\n",
      "336/336 [==============================] - 12s 35ms/step - loss: 2167935530.6667 - mse: 2167935488.0000\n",
      "Epoch 80/100\n",
      "336/336 [==============================] - 12s 36ms/step - loss: 2167935530.6667 - mse: 2167936000.0000\n",
      "Epoch 81/100\n",
      "336/336 [==============================] - 12s 36ms/step - loss: 2167935530.6667 - mse: 2167936000.0000\n",
      "Epoch 82/100\n",
      "336/336 [==============================] - 12s 35ms/step - loss: 2167935530.6667 - mse: 2167936256.0000\n",
      "Epoch 83/100\n",
      "336/336 [==============================] - 12s 36ms/step - loss: 2167935530.6667 - mse: 2167935488.0000\n",
      "Epoch 84/100\n",
      "336/336 [==============================] - 12s 37ms/step - loss: 2167935530.6667 - mse: 2167936000.0000\n",
      "Epoch 85/100\n",
      "336/336 [==============================] - 12s 36ms/step - loss: 2167935530.6667 - mse: 2167936000.0000\n",
      "Epoch 86/100\n",
      "336/336 [==============================] - 12s 36ms/step - loss: 2167935530.6667 - mse: 2167936256.0000\n",
      "Epoch 87/100\n",
      "336/336 [==============================] - 12s 36ms/step - loss: 2167935530.6667 - mse: 2167936512.0000\n",
      "Epoch 88/100\n",
      "336/336 [==============================] - 12s 35ms/step - loss: 2167935530.6667 - mse: 2167935488.0000\n",
      "Epoch 89/100\n",
      "336/336 [==============================] - 12s 36ms/step - loss: 2167935530.6667 - mse: 2167935744.0000\n",
      "Epoch 90/100\n",
      "336/336 [==============================] - 12s 35ms/step - loss: 2167935530.6667 - mse: 2167935232.0000\n",
      "Epoch 91/100\n",
      "336/336 [==============================] - 12s 37ms/step - loss: 2167935530.6667 - mse: 2167936256.0000\n",
      "Epoch 92/100\n",
      "336/336 [==============================] - 12s 36ms/step - loss: 2167935530.6667 - mse: 2167935744.0000\n",
      "Epoch 93/100\n",
      "336/336 [==============================] - 12s 36ms/step - loss: 2167935530.6667 - mse: 2167934976.0000\n",
      "Epoch 94/100\n",
      "336/336 [==============================] - 12s 36ms/step - loss: 2167935530.6667 - mse: 2167937024.0000\n",
      "Epoch 95/100\n",
      "336/336 [==============================] - 12s 36ms/step - loss: 2167935530.6667 - mse: 2167936768.0000\n",
      "Epoch 96/100\n",
      "336/336 [==============================] - 12s 36ms/step - loss: 2167935530.6667 - mse: 2167936256.0000\n",
      "Epoch 97/100\n",
      "336/336 [==============================] - 12s 37ms/step - loss: 2167935530.6667 - mse: 2167935488.0000\n",
      "Epoch 98/100\n",
      "336/336 [==============================] - 12s 36ms/step - loss: 2167935530.6667 - mse: 2167936000.0000\n",
      "Epoch 99/100\n",
      "336/336 [==============================] - 12s 36ms/step - loss: 2167935530.6667 - mse: 2167936256.0000\n",
      "Epoch 100/100\n",
      "336/336 [==============================] - 12s 36ms/step - loss: 2167935530.6667 - mse: 2167935488.0000\n",
      "85/85 [==============================] - 1s 13ms/step\n",
      "loss: 2275892356.5176473 mse: 2275892736.0\n"
     ]
    }
   ],
   "source": [
    "model.compile(loss='mse', optimizer='adam', metrics=['mse'])  \n",
    "model.fit(train_x, train_y, epochs=100, batch_size=1, verbose =1)  \n",
    "loss, mse = model.evaluate(test_x, test_y, batch_size=1)\n",
    "print(\"loss:\",loss,\"mse:\", mse) \n"
   ]
  },
  {
   "cell_type": "code",
   "execution_count": null,
   "metadata": {},
   "outputs": [],
   "source": [
    "y_predict = model.predict(test_x, batch_size=1)\n",
    "\n",
    "# RMSE 구하기\n",
    "from sklearn.metrics import mean_squared_error\n",
    "def RMSE(y_test, y_predict):\n",
    "    return np.sqrt(mean_squared_error(y_test,y_predict))\n",
    "print('RMSE :', RMSE(test_y,y_predict))"
   ]
  },
  {
   "cell_type": "code",
   "execution_count": 28,
   "metadata": {},
   "outputs": [
    {
     "name": "stdout",
     "output_type": "stream",
     "text": [
      "(336, 25, 1)\n"
     ]
    }
   ],
   "source": []
  },
  {
   "cell_type": "code",
   "execution_count": null,
   "metadata": {},
   "outputs": [],
   "source": []
  },
  {
   "cell_type": "code",
   "execution_count": null,
   "metadata": {},
   "outputs": [],
   "source": []
  },
  {
   "cell_type": "code",
   "execution_count": null,
   "metadata": {},
   "outputs": [],
   "source": []
  },
  {
   "cell_type": "code",
   "execution_count": null,
   "metadata": {},
   "outputs": [],
   "source": []
  },
  {
   "cell_type": "code",
   "execution_count": null,
   "metadata": {},
   "outputs": [],
   "source": []
  },
  {
   "cell_type": "code",
   "execution_count": null,
   "metadata": {},
   "outputs": [],
   "source": []
  },
  {
   "cell_type": "code",
   "execution_count": null,
   "metadata": {},
   "outputs": [],
   "source": []
  },
  {
   "cell_type": "code",
   "execution_count": 22,
   "metadata": {},
   "outputs": [],
   "source": [
    "# s_final = s_data[['final_price']]\n",
    "# s_final.head(5)"
   ]
  },
  {
   "cell_type": "code",
   "execution_count": 23,
   "metadata": {},
   "outputs": [],
   "source": [
    "# s_data = s_data.drop(['final_price'], axis = 1)"
   ]
  },
  {
   "cell_type": "code",
   "execution_count": 24,
   "metadata": {},
   "outputs": [],
   "source": [
    "# x.datetime = x.datetime.apply(pd.to_datetime)\n",
    "\n",
    "# x['year'] = x['datetime'].dt.year\n",
    "# x['month'] = x['datetime'].dt.month\n",
    "# x['day'] = x['datetime'].dt.day\n",
    "\n",
    "# del x['datetime']"
   ]
  },
  {
   "cell_type": "code",
   "execution_count": 25,
   "metadata": {},
   "outputs": [],
   "source": [
    "# x = x.apply(pd.to_numeric, errors='coerce')\n",
    "# y = y.apply(pd.to_numeric, errors='coerce')"
   ]
  },
  {
   "cell_type": "code",
   "execution_count": 26,
   "metadata": {},
   "outputs": [
    {
     "ename": "AttributeError",
     "evalue": "'numpy.ndarray' object has no attribute 'head'",
     "output_type": "error",
     "traceback": [
      "\u001b[0;31m---------------------------------------------------------------------------\u001b[0m",
      "\u001b[0;31mAttributeError\u001b[0m                            Traceback (most recent call last)",
      "\u001b[0;32m<ipython-input-26-3ab4b7549c54>\u001b[0m in \u001b[0;36m<module>\u001b[0;34m\u001b[0m\n\u001b[0;32m----> 1\u001b[0;31m \u001b[0ms_data\u001b[0m\u001b[0;34m.\u001b[0m\u001b[0mhead\u001b[0m\u001b[0;34m(\u001b[0m\u001b[0;36m5\u001b[0m\u001b[0;34m)\u001b[0m\u001b[0;34m\u001b[0m\u001b[0;34m\u001b[0m\u001b[0m\n\u001b[0m",
      "\u001b[0;31mAttributeError\u001b[0m: 'numpy.ndarray' object has no attribute 'head'"
     ]
    }
   ],
   "source": [
    "s_data.head(5)"
   ]
  },
  {
   "cell_type": "code",
   "execution_count": null,
   "metadata": {},
   "outputs": [],
   "source": [
    "s_data.info()"
   ]
  },
  {
   "cell_type": "code",
   "execution_count": null,
   "metadata": {},
   "outputs": [],
   "source": [
    "print(s_data.shape)"
   ]
  },
  {
   "cell_type": "code",
   "execution_count": null,
   "metadata": {},
   "outputs": [],
   "source": [
    "# date = s_data[['datetime']]\n",
    "# time = s_data[['time_price']]\n",
    "# high = s_data[['high_price']]\n",
    "# row = s_data[['row_price']]\n",
    "# amount = s_data[['amount']]\n"
   ]
  },
  {
   "cell_type": "code",
   "execution_count": null,
   "metadata": {},
   "outputs": [],
   "source": [
    "price = s_data.values[1:].astype(np.float)\n",
    "volume = s_final.values[1:].astype(np.float)"
   ]
  },
  {
   "cell_type": "code",
   "execution_count": null,
   "metadata": {},
   "outputs": [],
   "source": [
    "price = price[:,:-1]\n",
    "volume = s_final[:,-1:]\n",
    "\n",
    "x = np.concatenate((price, volume), axis=1) # axis=1, 세로로 합친다"
   ]
  },
  {
   "cell_type": "code",
   "execution_count": null,
   "metadata": {},
   "outputs": [],
   "source": [
    "from sklearn.model_selection import train_test_split\n",
    "x_train, x_test, y_train, y_test = train_test_split(data, final, test_size=0.2, shuffle = False)\n",
    "\n",
    "print(x_train.shape)\n",
    "print(y_train.shape)\n",
    "print(x_test.shape)\n",
    "print(y_test.shape)"
   ]
  },
  {
   "cell_type": "code",
   "execution_count": null,
   "metadata": {},
   "outputs": [],
   "source": [
    "# DNN\n",
    "model = Sequential()\n",
    "model.add(Dense(5, input_dim =5))\n",
    "model.add(Dense(10))\n",
    "model.add(Dense(12))\n",
    "model.add(Dense(10))\n",
    "model.add(Dense(5))\n",
    "model.add(Dense(1))"
   ]
  },
  {
   "cell_type": "code",
   "execution_count": null,
   "metadata": {},
   "outputs": [],
   "source": [
    "x_train = x_train.values\n",
    "y_train = y_train.values\n",
    "x_test = x_test.values\n",
    "y_test = y_test.values"
   ]
  },
  {
   "cell_type": "code",
   "execution_count": null,
   "metadata": {},
   "outputs": [],
   "source": [
    "x_train = x_train.reshape(x_train.shape[0], 5, 1)\n",
    "x_test = x_test.reshape(x_test.shape[0], 5, 1)"
   ]
  },
  {
   "cell_type": "code",
   "execution_count": null,
   "metadata": {},
   "outputs": [],
   "source": []
  },
  {
   "cell_type": "code",
   "execution_count": null,
   "metadata": {},
   "outputs": [],
   "source": [
    "from keras.models import Sequential\n",
    "from keras.layers import Dense\n",
    "model = Sequential()\n",
    "model.add(Dense(5, input_dim =5))\n",
    "model.add(Dense(10))\n",
    "model.add(Dense(12))\n",
    "model.add(Dense(10))\n",
    "model.add(Dense(5))\n",
    "model.add(Dense(1))"
   ]
  },
  {
   "cell_type": "code",
   "execution_count": null,
   "metadata": {},
   "outputs": [],
   "source": [
    "model.compile(loss='mse', optimizer = 'adam', metrics=['mse'])\n",
    "model.fit(x_train, y_train, validation_split = 0.2, epochs=100, batch_size=1)\n"
   ]
  },
  {
   "cell_type": "code",
   "execution_count": null,
   "metadata": {},
   "outputs": [],
   "source": [
    "mse, acc = model.evaluate(x_test, y_test, batch_size=1)\n",
    "print ('loss:', loss, 'mse:', mse)"
   ]
  },
  {
   "cell_type": "code",
   "execution_count": null,
   "metadata": {},
   "outputs": [],
   "source": []
  }
 ],
 "metadata": {
  "kernelspec": {
   "display_name": "Python 3",
   "language": "python",
   "name": "python3"
  },
  "language_info": {
   "codemirror_mode": {
    "name": "ipython",
    "version": 3
   },
   "file_extension": ".py",
   "mimetype": "text/x-python",
   "name": "python",
   "nbconvert_exporter": "python",
   "pygments_lexer": "ipython3",
   "version": "3.7.3"
  }
 },
 "nbformat": 4,
 "nbformat_minor": 2
}
